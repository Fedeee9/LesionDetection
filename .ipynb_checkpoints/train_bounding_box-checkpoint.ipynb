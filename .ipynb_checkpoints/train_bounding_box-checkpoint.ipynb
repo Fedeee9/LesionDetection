{
 "cells": [
  {
   "cell_type": "code",
   "execution_count": 1,
   "metadata": {},
   "outputs": [
    {
     "name": "stdout",
     "output_type": "stream",
     "text": [
      "WARNING:tensorflow:`period` argument is deprecated. Please use `save_freq` to specify the frequency in number of batches seen.\n",
      "[INFO] loading dataset...\n"
     ]
    },
    {
     "ename": "NameError",
     "evalue": "name 'count' is not defined",
     "output_type": "error",
     "traceback": [
      "\u001b[0;31m---------------------------------------------------------------------------\u001b[0m",
      "\u001b[0;31mNameError\u001b[0m                                 Traceback (most recent call last)",
      "\u001b[0;32m<ipython-input-1-b93dc48dea89>\u001b[0m in \u001b[0;36m<module>\u001b[0;34m\u001b[0m\n\u001b[1;32m     66\u001b[0m \u001b[0;34m\u001b[0m\u001b[0m\n\u001b[1;32m     67\u001b[0m \u001b[0;32mif\u001b[0m \u001b[0m__name__\u001b[0m \u001b[0;34m==\u001b[0m \u001b[0;34m\"__main__\"\u001b[0m\u001b[0;34m:\u001b[0m\u001b[0;34m\u001b[0m\u001b[0;34m\u001b[0m\u001b[0m\n\u001b[0;32m---> 68\u001b[0;31m     \u001b[0mtrain\u001b[0m\u001b[0;34m(\u001b[0m\u001b[0;34m)\u001b[0m\u001b[0;34m\u001b[0m\u001b[0;34m\u001b[0m\u001b[0m\n\u001b[0m\u001b[1;32m     69\u001b[0m     \u001b[0;31m#H = train()\u001b[0m\u001b[0;34m\u001b[0m\u001b[0;34m\u001b[0m\u001b[0;34m\u001b[0m\u001b[0m\n\u001b[1;32m     70\u001b[0m \u001b[0;34m\u001b[0m\u001b[0m\n",
      "\u001b[0;32m<ipython-input-1-b93dc48dea89>\u001b[0m in \u001b[0;36mtrain\u001b[0;34m()\u001b[0m\n\u001b[1;32m     30\u001b[0m \u001b[0;34m\u001b[0m\u001b[0m\n\u001b[1;32m     31\u001b[0m     \u001b[0;32mfor\u001b[0m \u001b[0mi\u001b[0m \u001b[0;32min\u001b[0m \u001b[0mval_data_gen\u001b[0m\u001b[0;34m:\u001b[0m\u001b[0;34m\u001b[0m\u001b[0;34m\u001b[0m\u001b[0m\n\u001b[0;32m---> 32\u001b[0;31m         \u001b[0mcount\u001b[0m\u001b[0;34m\u001b[0m\u001b[0;34m\u001b[0m\u001b[0m\n\u001b[0m\u001b[1;32m     33\u001b[0m         \u001b[0mprint\u001b[0m\u001b[0;34m(\u001b[0m\u001b[0mi\u001b[0m\u001b[0;34m)\u001b[0m\u001b[0;34m\u001b[0m\u001b[0;34m\u001b[0m\u001b[0m\n\u001b[1;32m     34\u001b[0m \u001b[0;34m\u001b[0m\u001b[0m\n",
      "\u001b[0;31mNameError\u001b[0m: name 'count' is not defined"
     ]
    }
   ],
   "source": [
    "import os\n",
    "import cv2\n",
    "import config\n",
    "import time\n",
    "import numpy as np\n",
    "import pandas as pd\n",
    "import matplotlib.pyplot as plt\n",
    "from preprocess_data_bb import data_generator\n",
    "from tensorflow.keras.preprocessing.image import load_img, img_to_array\n",
    "from preprocess_data import read_image_as_array\n",
    "from preprocess_data import load_train_dataset, load_val_dataset\n",
    "from tensorflow.keras.applications import VGG16\n",
    "from tensorflow.keras.layers import Input, Flatten, Dense\n",
    "from tensorflow.keras.models import Model\n",
    "from tensorflow.keras.optimizers import Adam\n",
    "from keras.callbacks import ModelCheckpoint, Callback, EarlyStopping, CSVLogger, ReduceLROnPlateau\n",
    "\n",
    "def train():\n",
    "    # callbacks\n",
    "    save_model_callback = ModelCheckpoint(config.model_detector, monitor='val_accuracy', save_best_only=True,\n",
    "                                          mode='auto', verbose=1, period=1)\n",
    "    early_stopping_callback = EarlyStopping(monitor='val_accuracy', mode='max', restore_best_weights=True, verbose=1)\n",
    "    #csv_logger_callback = CSVLogger(config.train_log_file, separator=';', append=False)\n",
    "    #reduce_lr_callback = ReduceLROnPlateau(monitor='val_accuracy', mode='auto', factor=0.5, patience=5, min_lr=0.000001,verbose=1)\n",
    "\n",
    "    print(\"[INFO] loading dataset...\")\n",
    "    #print(config.batch_size)\n",
    "    train_data_gen = data_generator(config.train_dir_bb, config.train_csv, config.batch_size)\n",
    "    val_data_gen = data_generator(config.val_dir_bb, config.val_csv, config.batch_size)\n",
    "    \n",
    "    count=0\n",
    "    for i in val_data_gen:\n",
    "        count+=1\n",
    "        print(i)\n",
    "    \n",
    "    # load the VGG16 network\n",
    "    vgg = VGG16(weights='imagenet', include_top=False, input_tensor=Input(shape=(224, 244, 3)))\n",
    "\n",
    "    vgg.trainable = False\n",
    "\n",
    "    flatten = vgg.output\n",
    "    flatten = Flatten()(flatten)\n",
    "\n",
    "    bboxHead = Dense(128, activation='relu')(flatten)\n",
    "    bboxHead = Dense(64, activation='relu')(bboxHead)\n",
    "    bboxHead = Dense(32, activation='relu')(bboxHead)\n",
    "    bboxHead = Dense(4, activation='sigmoid')(bboxHead)\n",
    "\n",
    "    model = Model(inputs=vgg.input, outputs=bboxHead)\n",
    "\n",
    "    # initialize the optimizer, compile the model and show the model\n",
    "    opt = Adam(lr=1e-4)\n",
    "    model.compile(loss='mse', optimizer=opt, metrics=['accuracy'])\n",
    "    print(model.summary())\n",
    "\n",
    "    # train the network for bounding box regression\n",
    "    print(\"[INFO] training bounding box regress...\")\n",
    "    history = model.fit(x=train_data_gen, validation_data=val_data_gen, batch_size=config.batch_size, epochs=25,\n",
    "                        verbose=1, callbacks=[save_model_callback, early_stopping_callback])\n",
    "                                   #reduce_lr_callback, csv_logger_callback])\n",
    "\n",
    "    #print(\"[INFO] saving object detector model...\")\n",
    "    #model.save(config.model_detector, save_format='h5')\n",
    "\n",
    "    #return history\n",
    "\n",
    "\n",
    "if __name__ == \"__main__\":\n",
    "    train()\n",
    "    #H = train()\n",
    "\n",
    "    \"\"\"N = 25\n",
    "    plt.style.use('ggplot')\n",
    "    plt.figure()\n",
    "    plt.plot(np.arange(0, N), H.history['loss'], label='train_loss')\n",
    "    plt.title('Bounding Box Regression Loss on Training Set')\n",
    "    plt.xlabel('Epoch #')\n",
    "    plt.ylabel('Loss')\n",
    "    plt.legend(loc='lower left')\n",
    "    plt.savefig(config.plot_path_loss)\n",
    "\n",
    "    plt.figure()\n",
    "    plt.plot(np.arange(0, N), H.history['accuracy'], label='accuracy', color='blue')\n",
    "    plt.title('Bounding Box Accuracy on Training Set')\n",
    "    plt.xlabel('Epoch #')\n",
    "    plt.ylabel('Accuracy')\n",
    "    plt.legend(loc='lower left')\n",
    "    plt.savefig(config.plot_path_acc)\"\"\"\n"
   ]
  },
  {
   "cell_type": "code",
   "execution_count": null,
   "metadata": {},
   "outputs": [],
   "source": []
  },
  {
   "cell_type": "code",
   "execution_count": null,
   "metadata": {},
   "outputs": [],
   "source": []
  }
 ],
 "metadata": {
  "kernelspec": {
   "display_name": "Python 3",
   "language": "python",
   "name": "python3"
  },
  "language_info": {
   "codemirror_mode": {
    "name": "ipython",
    "version": 3
   },
   "file_extension": ".py",
   "mimetype": "text/x-python",
   "name": "python",
   "nbconvert_exporter": "python",
   "pygments_lexer": "ipython3",
   "version": "3.8.5"
  }
 },
 "nbformat": 4,
 "nbformat_minor": 4
}
