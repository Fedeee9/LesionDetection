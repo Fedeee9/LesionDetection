{
 "cells": [
  {
   "cell_type": "code",
   "execution_count": null,
   "metadata": {},
   "outputs": [
    {
     "name": "stdout",
     "output_type": "stream",
     "text": [
      "Loading object detector...\n",
      "      6/Unknown - 26s 4s/step - loss: 0.0756 - accuracy: 0.4740"
     ]
    }
   ],
   "source": [
    "import os\n",
    "import config\n",
    "from preprocess_data import data_generator\n",
    "from tensorflow.keras.models import load_model\n",
    "from preprocess_data_bb import data_generator\n",
    "\n",
    "\n",
    "def evaluate(model_evaluate):\n",
    "    test_data_gen = data_generator(config.test_dir_bb, config.test_csv, config.batch_size)\n",
    "\n",
    "    results = model_evaluate.evaluate(x=test_data_gen, verbose=1, return_dict=True)\n",
    "    loss = results['loss']\n",
    "    accuracy = results['accuracy']\n",
    "    print('\\nMODEL: {}\\nACCURACY: {:.2f}%'.format(config.model_detector, accuracy * 100))\n",
    "    print('\\nMODEL: {}\\nLOSS: {:.2f}%'.format(config.model_detector, loss))\n",
    "\n",
    "\n",
    "if __name__ == \"__main__\":\n",
    "    if os.path.isfile(config.model_detector):\n",
    "        print(\"Loading object detector...\")\n",
    "        model = load_model(config.model_detector)\n",
    "        # verificare se metterlo o meno, prima provare senza\n",
    "        # model.compile(loss='mse', metrics=['accuracy'])\n",
    "        evaluate(model)\n",
    "    else:\n",
    "        print(\"Model not found in {}\".format(config.model_detector))\n"
   ]
  },
  {
   "cell_type": "code",
   "execution_count": null,
   "metadata": {},
   "outputs": [],
   "source": []
  }
 ],
 "metadata": {
  "kernelspec": {
   "display_name": "Python 3",
   "language": "python",
   "name": "python3"
  },
  "language_info": {
   "codemirror_mode": {
    "name": "ipython",
    "version": 3
   },
   "file_extension": ".py",
   "mimetype": "text/x-python",
   "name": "python",
   "nbconvert_exporter": "python",
   "pygments_lexer": "ipython3",
   "version": "3.8.5"
  }
 },
 "nbformat": 4,
 "nbformat_minor": 4
}
