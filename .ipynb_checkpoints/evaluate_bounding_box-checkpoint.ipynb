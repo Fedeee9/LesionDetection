{
 "cells": [
  {
   "cell_type": "code",
   "execution_count": 1,
   "metadata": {
    "scrolled": true
   },
   "outputs": [
    {
     "name": "stdout",
     "output_type": "stream",
     "text": [
      "Loading object detector...\n",
      "Batch size = 32\n",
      "Test steps = 48\n",
      "48/48 [==============================] - 237s 5s/step - loss: 0.0157 - accuracy: 0.5990\n",
      "\n",
      "MODEL: VGG16\n",
      "LOSS: 0.01574554480612278\n"
     ]
    }
   ],
   "source": [
    "import os\n",
    "import config\n",
    "from tensorflow.keras.models import load_model\n",
    "from preprocess_data_bb import data_generator\n",
    "\n",
    "\n",
    "def evaluate(model_evaluate):\n",
    "    test_data_gen = data_generator(config.test_dir, config.test_csv, config.batch_size)\n",
    "    \n",
    "    print(\"Batch size =\", config.batch_size)\n",
    "    \n",
    "    files_test = [f for f in os.listdir(config.test_dir) if os.path.isfile(os.path.join(config.test_dir, f))]\n",
    "    test_steps = (len(files_test) // config.batch_size) + 1\n",
    "    print(\"Test steps =\", test_steps)\n",
    "\n",
    "    results = model_evaluate.evaluate(x=test_data_gen, verbose=1, return_dict=True, steps=test_steps)\n",
    "    loss = results['loss']\n",
    "    print('\\nMODEL: {}\\nLOSS: {:.4f}'.format(config.model_name, loss))\n",
    "\n",
    "\n",
    "if __name__ == \"__main__\":\n",
    "    if os.path.isfile(config.model_detector):\n",
    "        print(\"Loading object detector...\")\n",
    "        model = load_model(config.model_detector)\n",
    "        # verificare se metterlo o meno, prima provare senza\n",
    "        #model.compile(loss='mse', metrics=['loss'])\n",
    "        evaluate(model)\n",
    "    else:\n",
    "        print(\"Model not found in {}\".format(config.model_detector))\n"
   ]
  },
  {
   "cell_type": "code",
   "execution_count": null,
   "metadata": {},
   "outputs": [],
   "source": []
  }
 ],
 "metadata": {
  "kernelspec": {
   "display_name": "Python 3",
   "language": "python",
   "name": "python3"
  },
  "language_info": {
   "codemirror_mode": {
    "name": "ipython",
    "version": 3
   },
   "file_extension": ".py",
   "mimetype": "text/x-python",
   "name": "python",
   "nbconvert_exporter": "python",
   "pygments_lexer": "ipython3",
   "version": "3.8.5"
  }
 },
 "nbformat": 4,
 "nbformat_minor": 4
}
