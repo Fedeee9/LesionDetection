{
 "cells": [
  {
   "cell_type": "code",
   "execution_count": 4,
   "metadata": {
    "scrolled": false
   },
   "outputs": [
    {
     "ename": "AttributeError",
     "evalue": "module 'config' has no attribute 'input_shape'",
     "output_type": "error",
     "traceback": [
      "\u001b[0;31m---------------------------------------------------------------------------\u001b[0m",
      "\u001b[0;31mAttributeError\u001b[0m                            Traceback (most recent call last)",
      "\u001b[0;32m<ipython-input-4-63fab215862f>\u001b[0m in \u001b[0;36m<module>\u001b[0;34m\u001b[0m\n\u001b[1;32m      1\u001b[0m \u001b[0;32mimport\u001b[0m \u001b[0mos\u001b[0m\u001b[0;34m\u001b[0m\u001b[0;34m\u001b[0m\u001b[0m\n\u001b[1;32m      2\u001b[0m \u001b[0;32mimport\u001b[0m \u001b[0mconfig\u001b[0m\u001b[0;34m\u001b[0m\u001b[0;34m\u001b[0m\u001b[0m\n\u001b[0;32m----> 3\u001b[0;31m \u001b[0;32mfrom\u001b[0m \u001b[0mpreprocess_data\u001b[0m \u001b[0;32mimport\u001b[0m \u001b[0mdata_generator\u001b[0m\u001b[0;34m\u001b[0m\u001b[0;34m\u001b[0m\u001b[0m\n\u001b[0m\u001b[1;32m      4\u001b[0m \u001b[0;32mfrom\u001b[0m \u001b[0mtensorflow\u001b[0m\u001b[0;34m.\u001b[0m\u001b[0mkeras\u001b[0m\u001b[0;34m.\u001b[0m\u001b[0mmodels\u001b[0m \u001b[0;32mimport\u001b[0m \u001b[0mload_model\u001b[0m\u001b[0;34m\u001b[0m\u001b[0;34m\u001b[0m\u001b[0m\n\u001b[1;32m      5\u001b[0m \u001b[0;32mfrom\u001b[0m \u001b[0mpreprocess_data_bb\u001b[0m \u001b[0;32mimport\u001b[0m \u001b[0mdata_generator\u001b[0m\u001b[0;34m\u001b[0m\u001b[0;34m\u001b[0m\u001b[0m\n",
      "\u001b[0;32m/mnt/c/Users/feder/Documents/Federico/LesionDetection/preprocess_data.py\u001b[0m in \u001b[0;36m<module>\u001b[0;34m\u001b[0m\n\u001b[1;32m     43\u001b[0m \u001b[0;34m\u001b[0m\u001b[0m\n\u001b[1;32m     44\u001b[0m \u001b[0;34m\u001b[0m\u001b[0m\n\u001b[0;32m---> 45\u001b[0;31m \u001b[0;32mdef\u001b[0m \u001b[0mread_image_as_array\u001b[0m\u001b[0;34m(\u001b[0m\u001b[0mimage_path\u001b[0m\u001b[0;34m,\u001b[0m \u001b[0mtarget_shape\u001b[0m\u001b[0;34m=\u001b[0m\u001b[0mconfig\u001b[0m\u001b[0;34m.\u001b[0m\u001b[0minput_shape\u001b[0m\u001b[0;34m)\u001b[0m\u001b[0;34m:\u001b[0m\u001b[0;34m\u001b[0m\u001b[0;34m\u001b[0m\u001b[0m\n\u001b[0m\u001b[1;32m     46\u001b[0m     \u001b[0mheight\u001b[0m \u001b[0;34m=\u001b[0m \u001b[0mconfig\u001b[0m\u001b[0;34m.\u001b[0m\u001b[0minput_shape\u001b[0m\u001b[0;34m[\u001b[0m\u001b[0;36m0\u001b[0m\u001b[0;34m]\u001b[0m\u001b[0;34m\u001b[0m\u001b[0;34m\u001b[0m\u001b[0m\n\u001b[1;32m     47\u001b[0m     \u001b[0mwidth\u001b[0m \u001b[0;34m=\u001b[0m \u001b[0mconfig\u001b[0m\u001b[0;34m.\u001b[0m\u001b[0minput_shape\u001b[0m\u001b[0;34m[\u001b[0m\u001b[0;36m1\u001b[0m\u001b[0;34m]\u001b[0m\u001b[0;34m\u001b[0m\u001b[0;34m\u001b[0m\u001b[0m\n",
      "\u001b[0;31mAttributeError\u001b[0m: module 'config' has no attribute 'input_shape'"
     ]
    }
   ],
   "source": [
    "import os\n",
    "import config\n",
    "from preprocess_data import data_generator\n",
    "from tensorflow.keras.models import load_model\n",
    "from preprocess_data_bb import data_generator\n",
    "\n",
    "\n",
    "def evaluate(model_evaluate):\n",
    "    test_data_gen = data_generator(config.test_dir_bb, config.test_csv, config.batch_size)\n",
    "    \n",
    "    print(\"Batch size =\", config.batch_size)\n",
    "    \n",
    "    files_test = [f for f in os.listdir(config.test_dir_bb) if os.path.isfile(os.path.join(config.test_dir_bb, f))]\n",
    "    test_steps = (len(files_test) // config.batch_size) + 1\n",
    "    print(\"Test steps =\", test_steps)\n",
    "\n",
    "    results = model_evaluate.evaluate(x=test_data_gen, verbose=1, return_dict=True, steps=test_steps)\n",
    "    loss = results['loss']\n",
    "    accuracy = results['accuracy']\n",
    "    print('\\nMODEL: {}\\nACCURACY: {:.2f}%'.format(config.model_detector, accuracy * 100))\n",
    "    print('\\nMODEL: {}\\nLOSS: {:.2f}%'.format(config.model_detector, loss))\n",
    "\n",
    "\n",
    "if __name__ == \"__main__\":\n",
    "    if os.path.isfile(config.model_detector):\n",
    "        print(\"Loading object detector...\")\n",
    "        model = load_model(config.model_detector)\n",
    "        # verificare se metterlo o meno, prima provare senza\n",
    "        # model.compile(loss='mse', metrics=['accuracy'])\n",
    "        evaluate(model)\n",
    "    else:\n",
    "        print(\"Model not found in {}\".format(config.model_detector))\n"
   ]
  },
  {
   "cell_type": "code",
   "execution_count": null,
   "metadata": {},
   "outputs": [],
   "source": []
  }
 ],
 "metadata": {
  "kernelspec": {
   "display_name": "Python 3",
   "language": "python",
   "name": "python3"
  },
  "language_info": {
   "codemirror_mode": {
    "name": "ipython",
    "version": 3
   },
   "file_extension": ".py",
   "mimetype": "text/x-python",
   "name": "python",
   "nbconvert_exporter": "python",
   "pygments_lexer": "ipython3",
   "version": "3.8.5"
  }
 },
 "nbformat": 4,
 "nbformat_minor": 4
}
